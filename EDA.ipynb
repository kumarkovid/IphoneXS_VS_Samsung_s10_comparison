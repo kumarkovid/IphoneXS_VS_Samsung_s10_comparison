{
 "cells": [
  {
   "cell_type": "code",
   "execution_count": 16,
   "metadata": {},
   "outputs": [],
   "source": [
    "from IPython.core.interactiveshell import InteractiveShell\n",
    "InteractiveShell.ast_node_interactivity = \"all\"\n",
    "import pandas as pd\n",
    "import matplotlib.pyplot as plt\n",
    "\n"
   ]
  },
  {
   "cell_type": "code",
   "execution_count": 2,
   "metadata": {},
   "outputs": [
    {
     "data": {
      "text/html": [
       "<div>\n",
       "<style scoped>\n",
       "    .dataframe tbody tr th:only-of-type {\n",
       "        vertical-align: middle;\n",
       "    }\n",
       "\n",
       "    .dataframe tbody tr th {\n",
       "        vertical-align: top;\n",
       "    }\n",
       "\n",
       "    .dataframe thead th {\n",
       "        text-align: right;\n",
       "    }\n",
       "</style>\n",
       "<table border=\"1\" class=\"dataframe\">\n",
       "  <thead>\n",
       "    <tr style=\"text-align: right;\">\n",
       "      <th></th>\n",
       "      <th>Channel Name</th>\n",
       "      <th>Brand</th>\n",
       "      <th>Model</th>\n",
       "      <th>URL</th>\n",
       "      <th>Published_date</th>\n",
       "      <th>Views</th>\n",
       "      <th>Likes</th>\n",
       "      <th>Dislikes</th>\n",
       "      <th>user</th>\n",
       "      <th>commentText</th>\n",
       "      <th>likes</th>\n",
       "    </tr>\n",
       "  </thead>\n",
       "  <tbody>\n",
       "    <tr>\n",
       "      <th>0</th>\n",
       "      <td>Unbox_Therapy</td>\n",
       "      <td>samsung</td>\n",
       "      <td>s10</td>\n",
       "      <td>https://www.youtube.com/watch?v=7YKjLzlc-hY&amp;t=3s</td>\n",
       "      <td>21 Feb 2019</td>\n",
       "      <td>4,421,639</td>\n",
       "      <td>104000.0</td>\n",
       "      <td>3800.0</td>\n",
       "      <td>Unbox Therapy</td>\n",
       "      <td>Your favorite smartphone right now... Galaxy S...</td>\n",
       "      <td>5783.0</td>\n",
       "    </tr>\n",
       "    <tr>\n",
       "      <th>1</th>\n",
       "      <td>Unbox_Therapy</td>\n",
       "      <td>samsung</td>\n",
       "      <td>s10</td>\n",
       "      <td>https://www.youtube.com/watch?v=7YKjLzlc-hY&amp;t=3s</td>\n",
       "      <td>21 Feb 2019</td>\n",
       "      <td>4,421,639</td>\n",
       "      <td>104000.0</td>\n",
       "      <td>3800.0</td>\n",
       "      <td>Neil.is.FAMOUS</td>\n",
       "      <td>I caved today and got an s10 plus for my tiny ...</td>\n",
       "      <td>0.0</td>\n",
       "    </tr>\n",
       "    <tr>\n",
       "      <th>2</th>\n",
       "      <td>Unbox_Therapy</td>\n",
       "      <td>samsung</td>\n",
       "      <td>s10</td>\n",
       "      <td>https://www.youtube.com/watch?v=7YKjLzlc-hY&amp;t=3s</td>\n",
       "      <td>21 Feb 2019</td>\n",
       "      <td>4,421,639</td>\n",
       "      <td>104000.0</td>\n",
       "      <td>3800.0</td>\n",
       "      <td>Carter Mickens</td>\n",
       "      <td>Samsung: Give them more to do and see\\nApple: ...</td>\n",
       "      <td>0.0</td>\n",
       "    </tr>\n",
       "    <tr>\n",
       "      <th>3</th>\n",
       "      <td>Unbox_Therapy</td>\n",
       "      <td>samsung</td>\n",
       "      <td>s10</td>\n",
       "      <td>https://www.youtube.com/watch?v=7YKjLzlc-hY&amp;t=3s</td>\n",
       "      <td>21 Feb 2019</td>\n",
       "      <td>4,421,639</td>\n",
       "      <td>104000.0</td>\n",
       "      <td>3800.0</td>\n",
       "      <td>Crookie 2k</td>\n",
       "      <td>Yes it is the phone</td>\n",
       "      <td>0.0</td>\n",
       "    </tr>\n",
       "    <tr>\n",
       "      <th>4</th>\n",
       "      <td>Unbox_Therapy</td>\n",
       "      <td>samsung</td>\n",
       "      <td>s10</td>\n",
       "      <td>https://www.youtube.com/watch?v=7YKjLzlc-hY&amp;t=3s</td>\n",
       "      <td>21 Feb 2019</td>\n",
       "      <td>4,421,639</td>\n",
       "      <td>104000.0</td>\n",
       "      <td>3800.0</td>\n",
       "      <td>Tim Hex</td>\n",
       "      <td>Have u guys bought this phone I just wanna kno...</td>\n",
       "      <td>0.0</td>\n",
       "    </tr>\n",
       "  </tbody>\n",
       "</table>\n",
       "</div>"
      ],
      "text/plain": [
       "    Channel Name    Brand Model  \\\n",
       "0  Unbox_Therapy  samsung   s10   \n",
       "1  Unbox_Therapy  samsung   s10   \n",
       "2  Unbox_Therapy  samsung   s10   \n",
       "3  Unbox_Therapy  samsung   s10   \n",
       "4  Unbox_Therapy  samsung   s10   \n",
       "\n",
       "                                                URL Published_date      Views  \\\n",
       "0  https://www.youtube.com/watch?v=7YKjLzlc-hY&t=3s    21 Feb 2019  4,421,639   \n",
       "1  https://www.youtube.com/watch?v=7YKjLzlc-hY&t=3s    21 Feb 2019  4,421,639   \n",
       "2  https://www.youtube.com/watch?v=7YKjLzlc-hY&t=3s    21 Feb 2019  4,421,639   \n",
       "3  https://www.youtube.com/watch?v=7YKjLzlc-hY&t=3s    21 Feb 2019  4,421,639   \n",
       "4  https://www.youtube.com/watch?v=7YKjLzlc-hY&t=3s    21 Feb 2019  4,421,639   \n",
       "\n",
       "      Likes  Dislikes            user  \\\n",
       "0  104000.0    3800.0   Unbox Therapy   \n",
       "1  104000.0    3800.0  Neil.is.FAMOUS   \n",
       "2  104000.0    3800.0  Carter Mickens   \n",
       "3  104000.0    3800.0      Crookie 2k   \n",
       "4  104000.0    3800.0         Tim Hex   \n",
       "\n",
       "                                         commentText   likes  \n",
       "0  Your favorite smartphone right now... Galaxy S...  5783.0  \n",
       "1  I caved today and got an s10 plus for my tiny ...     0.0  \n",
       "2  Samsung: Give them more to do and see\\nApple: ...     0.0  \n",
       "3                                Yes it is the phone     0.0  \n",
       "4  Have u guys bought this phone I just wanna kno...     0.0  "
      ]
     },
     "execution_count": 2,
     "metadata": {},
     "output_type": "execute_result"
    },
    {
     "name": "stdout",
     "output_type": "stream",
     "text": [
      "<class 'pandas.core.frame.DataFrame'>\n",
      "RangeIndex: 109304 entries, 0 to 109303\n",
      "Data columns (total 11 columns):\n",
      "Channel Name      109304 non-null object\n",
      "Brand             109304 non-null object\n",
      "Model             109299 non-null object\n",
      "URL               109299 non-null object\n",
      "Published_date    109299 non-null object\n",
      "Views             109299 non-null object\n",
      "Likes             109299 non-null float64\n",
      "Dislikes          109299 non-null float64\n",
      "user              109297 non-null object\n",
      "commentText       109299 non-null object\n",
      "likes             109294 non-null float64\n",
      "dtypes: float64(3), object(8)\n",
      "memory usage: 9.2+ MB\n"
     ]
    }
   ],
   "source": [
    "import pandas as pd\n",
    "df=pd.read_csv(\"/Users/divyaj_podar/final_set.csv\")\n",
    "df.head()\n",
    "#df[df['Brand']=='samsung']\n",
    "df.info()"
   ]
  },
  {
   "cell_type": "code",
   "execution_count": 3,
   "metadata": {},
   "outputs": [
    {
     "data": {
      "text/plain": [
       "Channel Name       0\n",
       "Brand              0\n",
       "Model              5\n",
       "URL                5\n",
       "Published_date     5\n",
       "Views              5\n",
       "Likes              5\n",
       "Dislikes           5\n",
       "user               7\n",
       "commentText        5\n",
       "likes             10\n",
       "dtype: int64"
      ]
     },
     "execution_count": 3,
     "metadata": {},
     "output_type": "execute_result"
    },
    {
     "data": {
      "text/plain": [
       "Channel Name      0\n",
       "Brand             0\n",
       "Model             0\n",
       "URL               0\n",
       "Published_date    0\n",
       "Views             0\n",
       "Likes             0\n",
       "Dislikes          0\n",
       "user              0\n",
       "commentText       0\n",
       "likes             0\n",
       "dtype: int64"
      ]
     },
     "execution_count": 3,
     "metadata": {},
     "output_type": "execute_result"
    }
   ],
   "source": [
    "df.isnull().sum(axis=0)\n",
    "df=df.dropna(how='any')    # Removing null\n",
    "df.isnull().sum(axis=0)"
   ]
  },
  {
   "cell_type": "code",
   "execution_count": 4,
   "metadata": {},
   "outputs": [
    {
     "name": "stdout",
     "output_type": "stream",
     "text": [
      "(109292, 11)\n"
     ]
    }
   ],
   "source": [
    "print(df.shape)    # shape of dataframe after dropping the nulls"
   ]
  },
  {
   "cell_type": "code",
   "execution_count": 5,
   "metadata": {},
   "outputs": [],
   "source": [
    "df=df.drop_duplicates(keep=\"first\")"
   ]
  },
  {
   "cell_type": "code",
   "execution_count": 6,
   "metadata": {},
   "outputs": [
    {
     "name": "stdout",
     "output_type": "stream",
     "text": [
      "(109039, 11)\n"
     ]
    }
   ],
   "source": [
    "print(df.shape)"
   ]
  },
  {
   "cell_type": "code",
   "execution_count": 7,
   "metadata": {
    "scrolled": false
   },
   "outputs": [
    {
     "data": {
      "text/html": [
       "<div>\n",
       "<style scoped>\n",
       "    .dataframe tbody tr th:only-of-type {\n",
       "        vertical-align: middle;\n",
       "    }\n",
       "\n",
       "    .dataframe tbody tr th {\n",
       "        vertical-align: top;\n",
       "    }\n",
       "\n",
       "    .dataframe thead th {\n",
       "        text-align: right;\n",
       "    }\n",
       "</style>\n",
       "<table border=\"1\" class=\"dataframe\">\n",
       "  <thead>\n",
       "    <tr style=\"text-align: right;\">\n",
       "      <th></th>\n",
       "      <th>Channel Name</th>\n",
       "      <th>Brand</th>\n",
       "      <th>Model</th>\n",
       "      <th>URL</th>\n",
       "      <th>Published_date</th>\n",
       "      <th>Views</th>\n",
       "      <th>Likes</th>\n",
       "      <th>Dislikes</th>\n",
       "      <th>user</th>\n",
       "      <th>commentText</th>\n",
       "      <th>likes</th>\n",
       "    </tr>\n",
       "  </thead>\n",
       "  <tbody>\n",
       "    <tr>\n",
       "      <th>52479</th>\n",
       "      <td>Marques_Brownlee</td>\n",
       "      <td>oneplus</td>\n",
       "      <td>6t</td>\n",
       "      <td>https://www.youtube.com/watch?v=_6-XjSvbJsE</td>\n",
       "      <td>29 Oct 2018</td>\n",
       "      <td>6,147,012</td>\n",
       "      <td>131000.0</td>\n",
       "      <td>3400.0</td>\n",
       "      <td>CaseyNeistat</td>\n",
       "      <td>even at $1k it would be one of the best androi...</td>\n",
       "      <td>10106.0</td>\n",
       "    </tr>\n",
       "    <tr>\n",
       "      <th>35493</th>\n",
       "      <td>Unbox_Therapy</td>\n",
       "      <td>apple</td>\n",
       "      <td>xs</td>\n",
       "      <td>https://www.youtube.com/watch?v=XFckmtISfJk&amp;t=2s</td>\n",
       "      <td>22 Sep 2018</td>\n",
       "      <td>4,838,265</td>\n",
       "      <td>156000.0</td>\n",
       "      <td>6100.0</td>\n",
       "      <td>Unbox Therapy</td>\n",
       "      <td>So what do you think... Should I switch to the...</td>\n",
       "      <td>8648.0</td>\n",
       "    </tr>\n",
       "    <tr>\n",
       "      <th>23921</th>\n",
       "      <td>Unbox_Therapy</td>\n",
       "      <td>oneplus</td>\n",
       "      <td>6t</td>\n",
       "      <td>https://www.youtube.com/watch?v=KI6ZJTSja4s&amp;t=2s</td>\n",
       "      <td>1 Nov 2018</td>\n",
       "      <td>7,123,013</td>\n",
       "      <td>85000.0</td>\n",
       "      <td>3200.0</td>\n",
       "      <td>Unbox Therapy</td>\n",
       "      <td>Should I switch to this next? Something else?</td>\n",
       "      <td>8251.0</td>\n",
       "    </tr>\n",
       "    <tr>\n",
       "      <th>23602</th>\n",
       "      <td>Unbox_Therapy</td>\n",
       "      <td>google</td>\n",
       "      <td>pixel3</td>\n",
       "      <td>https://www.youtube.com/watch?v=BJrsmM6aEYE</td>\n",
       "      <td>9 Oct 2018</td>\n",
       "      <td>3,264,839</td>\n",
       "      <td>85000.0</td>\n",
       "      <td>10000.0</td>\n",
       "      <td>Unbox Therapy</td>\n",
       "      <td>Is this my next smartphone switch?</td>\n",
       "      <td>7368.0</td>\n",
       "    </tr>\n",
       "    <tr>\n",
       "      <th>90108</th>\n",
       "      <td>Marques_Brownlee</td>\n",
       "      <td>samsung</td>\n",
       "      <td>s10</td>\n",
       "      <td>https://www.youtube.com/watch?v=t9R7xx0joOU&amp;t=...</td>\n",
       "      <td>20 Feb 2019</td>\n",
       "      <td>8,822,405</td>\n",
       "      <td>209000.0</td>\n",
       "      <td>6400.0</td>\n",
       "      <td>Taikamuna</td>\n",
       "      <td>It has a headphone jack. Already better than a...</td>\n",
       "      <td>7130.0</td>\n",
       "    </tr>\n",
       "  </tbody>\n",
       "</table>\n",
       "</div>"
      ],
      "text/plain": [
       "           Channel Name    Brand   Model  \\\n",
       "52479  Marques_Brownlee  oneplus      6t   \n",
       "35493     Unbox_Therapy    apple      xs   \n",
       "23921     Unbox_Therapy  oneplus      6t   \n",
       "23602     Unbox_Therapy   google  pixel3   \n",
       "90108  Marques_Brownlee  samsung     s10   \n",
       "\n",
       "                                                     URL Published_date  \\\n",
       "52479        https://www.youtube.com/watch?v=_6-XjSvbJsE    29 Oct 2018   \n",
       "35493   https://www.youtube.com/watch?v=XFckmtISfJk&t=2s    22 Sep 2018   \n",
       "23921   https://www.youtube.com/watch?v=KI6ZJTSja4s&t=2s     1 Nov 2018   \n",
       "23602        https://www.youtube.com/watch?v=BJrsmM6aEYE     9 Oct 2018   \n",
       "90108  https://www.youtube.com/watch?v=t9R7xx0joOU&t=...    20 Feb 2019   \n",
       "\n",
       "           Views     Likes  Dislikes           user  \\\n",
       "52479  6,147,012  131000.0    3400.0   CaseyNeistat   \n",
       "35493  4,838,265  156000.0    6100.0  Unbox Therapy   \n",
       "23921  7,123,013   85000.0    3200.0  Unbox Therapy   \n",
       "23602  3,264,839   85000.0   10000.0  Unbox Therapy   \n",
       "90108  8,822,405  209000.0    6400.0      Taikamuna   \n",
       "\n",
       "                                             commentText    likes  \n",
       "52479  even at $1k it would be one of the best androi...  10106.0  \n",
       "35493  So what do you think... Should I switch to the...   8648.0  \n",
       "23921      Should I switch to this next? Something else?   8251.0  \n",
       "23602                 Is this my next smartphone switch?   7368.0  \n",
       "90108  It has a headphone jack. Already better than a...   7130.0  "
      ]
     },
     "execution_count": 7,
     "metadata": {},
     "output_type": "execute_result"
    }
   ],
   "source": [
    "df_sort=df.sort_values(by='likes',ascending=False)\n",
    "df_sort.head() # latest 2000 comments"
   ]
  },
  {
   "cell_type": "code",
   "execution_count": 8,
   "metadata": {},
   "outputs": [
    {
     "data": {
      "text/html": [
       "<div>\n",
       "<style scoped>\n",
       "    .dataframe tbody tr th:only-of-type {\n",
       "        vertical-align: middle;\n",
       "    }\n",
       "\n",
       "    .dataframe tbody tr th {\n",
       "        vertical-align: top;\n",
       "    }\n",
       "\n",
       "    .dataframe thead th {\n",
       "        text-align: right;\n",
       "    }\n",
       "</style>\n",
       "<table border=\"1\" class=\"dataframe\">\n",
       "  <thead>\n",
       "    <tr style=\"text-align: right;\">\n",
       "      <th></th>\n",
       "      <th>count</th>\n",
       "    </tr>\n",
       "    <tr>\n",
       "      <th>user</th>\n",
       "      <th></th>\n",
       "    </tr>\n",
       "  </thead>\n",
       "  <tbody>\n",
       "    <tr>\n",
       "      <th>Alex</th>\n",
       "      <td>31</td>\n",
       "    </tr>\n",
       "    <tr>\n",
       "      <th>Varun Shewraj</th>\n",
       "      <td>23</td>\n",
       "    </tr>\n",
       "    <tr>\n",
       "      <th>John Smith</th>\n",
       "      <td>21</td>\n",
       "    </tr>\n",
       "    <tr>\n",
       "      <th>Shubham Bhatt</th>\n",
       "      <td>20</td>\n",
       "    </tr>\n",
       "    <tr>\n",
       "      <th>Paras Vaghasia</th>\n",
       "      <td>20</td>\n",
       "    </tr>\n",
       "  </tbody>\n",
       "</table>\n",
       "</div>"
      ],
      "text/plain": [
       "                count\n",
       "user                 \n",
       "Alex               31\n",
       "Varun Shewraj      23\n",
       "John Smith         21\n",
       "Shubham Bhatt      20\n",
       "Paras Vaghasia     20"
      ]
     },
     "execution_count": 8,
     "metadata": {},
     "output_type": "execute_result"
    }
   ],
   "source": [
    "#Top commentors by comments\n",
    "count=df.groupby(['user'])['user'].count()              #value count of each user\n",
    "count=count.to_frame(name='count')\n",
    "count.sort_values('count',ascending=False).head()"
   ]
  },
  {
   "cell_type": "code",
   "execution_count": 9,
   "metadata": {},
   "outputs": [
    {
     "data": {
      "text/html": [
       "<div>\n",
       "<style scoped>\n",
       "    .dataframe tbody tr th:only-of-type {\n",
       "        vertical-align: middle;\n",
       "    }\n",
       "\n",
       "    .dataframe tbody tr th {\n",
       "        vertical-align: top;\n",
       "    }\n",
       "\n",
       "    .dataframe thead th {\n",
       "        text-align: right;\n",
       "    }\n",
       "</style>\n",
       "<table border=\"1\" class=\"dataframe\">\n",
       "  <thead>\n",
       "    <tr style=\"text-align: right;\">\n",
       "      <th></th>\n",
       "      <th>count</th>\n",
       "    </tr>\n",
       "    <tr>\n",
       "      <th>user</th>\n",
       "      <th></th>\n",
       "    </tr>\n",
       "  </thead>\n",
       "  <tbody>\n",
       "    <tr>\n",
       "      <th>Unbox Therapy</th>\n",
       "      <td>31712.0</td>\n",
       "    </tr>\n",
       "    <tr>\n",
       "      <th>CaseyNeistat</th>\n",
       "      <td>10106.0</td>\n",
       "    </tr>\n",
       "    <tr>\n",
       "      <th>Taikamuna</th>\n",
       "      <td>10031.0</td>\n",
       "    </tr>\n",
       "    <tr>\n",
       "      <th>Mrwhosetheboss</th>\n",
       "      <td>4631.0</td>\n",
       "    </tr>\n",
       "    <tr>\n",
       "      <th>Abdul Aaqib Mohammed</th>\n",
       "      <td>4183.0</td>\n",
       "    </tr>\n",
       "  </tbody>\n",
       "</table>\n",
       "</div>"
      ],
      "text/plain": [
       "                        count\n",
       "user                         \n",
       "Unbox Therapy         31712.0\n",
       "CaseyNeistat          10106.0\n",
       "Taikamuna             10031.0\n",
       "Mrwhosetheboss         4631.0\n",
       "Abdul Aaqib Mohammed   4183.0"
      ]
     },
     "execution_count": 9,
     "metadata": {},
     "output_type": "execute_result"
    }
   ],
   "source": [
    "# Top commentors by liked comments\n",
    "top_comments=df.groupby(['user'])['likes'].sum()   #value count of each user\n",
    "top_comments=top_comments.to_frame(name='count')\n",
    "top_comments.sort_values('count',ascending=False).head()"
   ]
  },
  {
   "cell_type": "code",
   "execution_count": 10,
   "metadata": {},
   "outputs": [
    {
     "name": "stdout",
     "output_type": "stream",
     "text": [
      "Shape of Oneplus 6t Dataframe:  (25342, 11)\n",
      "Shape of Samsung s10 Dataframe:  (28936, 11)\n",
      "Shape of iphone xs Dataframe:  (24190, 11)\n",
      "Shape of Pixel 3 Dataframe:  (30571, 11)\n"
     ]
    }
   ],
   "source": [
    "df_6t=df[df['Model']=='6t']\n",
    "df_s10=df[df['Model']=='s10']\n",
    "df_pixel3=df[df['Model']=='pixel3']\n",
    "df_xs=df[df['Model']=='xs']\n",
    "\n",
    "print(\"Shape of Oneplus 6t Dataframe: \",df_6t.shape)\n",
    "print(\"Shape of Samsung s10 Dataframe: \",df_s10.shape)\n",
    "print(\"Shape of iphone xs Dataframe: \",df_xs.shape)\n",
    "print(\"Shape of Pixel 3 Dataframe: \",df_pixel3.shape)"
   ]
  },
  {
   "cell_type": "code",
   "execution_count": 11,
   "metadata": {},
   "outputs": [],
   "source": [
    "#Likes Dislikes on each Channel Videos\n",
    "df.groupby('Model')[\"Dislikes\",\"Likes\"].sum()\\\n",
    ".plot(kind='bar', figsize=(10,5))\\\n",
    ".legend(loc='center left', bbox_to_anchor=(1, 0.5));  # set legend"
   ]
  },
  {
   "cell_type": "code",
   "execution_count": 17,
   "metadata": {},
   "outputs": [
    {
     "data": {
      "text/html": [
       "<div>\n",
       "<style scoped>\n",
       "    .dataframe tbody tr th:only-of-type {\n",
       "        vertical-align: middle;\n",
       "    }\n",
       "\n",
       "    .dataframe tbody tr th {\n",
       "        vertical-align: top;\n",
       "    }\n",
       "\n",
       "    .dataframe thead th {\n",
       "        text-align: right;\n",
       "    }\n",
       "</style>\n",
       "<table border=\"1\" class=\"dataframe\">\n",
       "  <thead>\n",
       "    <tr style=\"text-align: right;\">\n",
       "      <th></th>\n",
       "      <th>Channel Name</th>\n",
       "      <th>Brand</th>\n",
       "      <th>Model</th>\n",
       "      <th>URL</th>\n",
       "      <th>Published_date</th>\n",
       "      <th>Views</th>\n",
       "      <th>Likes</th>\n",
       "      <th>Dislikes</th>\n",
       "      <th>user</th>\n",
       "      <th>commentText</th>\n",
       "      <th>likes</th>\n",
       "    </tr>\n",
       "  </thead>\n",
       "  <tbody>\n",
       "    <tr>\n",
       "      <th>52479</th>\n",
       "      <td>Marques_Brownlee</td>\n",
       "      <td>oneplus</td>\n",
       "      <td>6t</td>\n",
       "      <td>https://www.youtube.com/watch?v=_6-XjSvbJsE</td>\n",
       "      <td>29 Oct 2018</td>\n",
       "      <td>6,147,012</td>\n",
       "      <td>131000.0</td>\n",
       "      <td>3400.0</td>\n",
       "      <td>CaseyNeistat</td>\n",
       "      <td>even at $1k it would be one of the best androi...</td>\n",
       "      <td>10106.0</td>\n",
       "    </tr>\n",
       "    <tr>\n",
       "      <th>23921</th>\n",
       "      <td>Unbox_Therapy</td>\n",
       "      <td>oneplus</td>\n",
       "      <td>6t</td>\n",
       "      <td>https://www.youtube.com/watch?v=KI6ZJTSja4s&amp;t=2s</td>\n",
       "      <td>1 Nov 2018</td>\n",
       "      <td>7,123,013</td>\n",
       "      <td>85000.0</td>\n",
       "      <td>3200.0</td>\n",
       "      <td>Unbox Therapy</td>\n",
       "      <td>Should I switch to this next? Something else?</td>\n",
       "      <td>8251.0</td>\n",
       "    </tr>\n",
       "    <tr>\n",
       "      <th>56409</th>\n",
       "      <td>Marques_Brownlee</td>\n",
       "      <td>oneplus</td>\n",
       "      <td>6t</td>\n",
       "      <td>https://www.youtube.com/watch?v=_6-XjSvbJsE</td>\n",
       "      <td>29 Oct 2018</td>\n",
       "      <td>6,147,012</td>\n",
       "      <td>131000.0</td>\n",
       "      <td>3400.0</td>\n",
       "      <td>Mic Rose</td>\n",
       "      <td>I'm not a fan of the notch but this is easily ...</td>\n",
       "      <td>2662.0</td>\n",
       "    </tr>\n",
       "    <tr>\n",
       "      <th>54520</th>\n",
       "      <td>Marques_Brownlee</td>\n",
       "      <td>oneplus</td>\n",
       "      <td>6t</td>\n",
       "      <td>https://www.youtube.com/watch?v=_6-XjSvbJsE</td>\n",
       "      <td>29 Oct 2018</td>\n",
       "      <td>6,147,012</td>\n",
       "      <td>131000.0</td>\n",
       "      <td>3400.0</td>\n",
       "      <td>Unclejerry50th</td>\n",
       "      <td>Google just needs to slap the pixel logo and c...</td>\n",
       "      <td>2366.0</td>\n",
       "    </tr>\n",
       "    <tr>\n",
       "      <th>24849</th>\n",
       "      <td>Unbox_Therapy</td>\n",
       "      <td>oneplus</td>\n",
       "      <td>6t</td>\n",
       "      <td>https://www.youtube.com/watch?v=KI6ZJTSja4s&amp;t=2s</td>\n",
       "      <td>1 Nov 2018</td>\n",
       "      <td>7,123,013</td>\n",
       "      <td>85000.0</td>\n",
       "      <td>3200.0</td>\n",
       "      <td>Bigdrop</td>\n",
       "      <td>Watching on my oneplus 6t :D \\n\\n\\n\\nSwitched ...</td>\n",
       "      <td>1426.0</td>\n",
       "    </tr>\n",
       "  </tbody>\n",
       "</table>\n",
       "</div>"
      ],
      "text/plain": [
       "           Channel Name    Brand Model  \\\n",
       "52479  Marques_Brownlee  oneplus    6t   \n",
       "23921     Unbox_Therapy  oneplus    6t   \n",
       "56409  Marques_Brownlee  oneplus    6t   \n",
       "54520  Marques_Brownlee  oneplus    6t   \n",
       "24849     Unbox_Therapy  oneplus    6t   \n",
       "\n",
       "                                                    URL Published_date  \\\n",
       "52479       https://www.youtube.com/watch?v=_6-XjSvbJsE    29 Oct 2018   \n",
       "23921  https://www.youtube.com/watch?v=KI6ZJTSja4s&t=2s     1 Nov 2018   \n",
       "56409       https://www.youtube.com/watch?v=_6-XjSvbJsE    29 Oct 2018   \n",
       "54520       https://www.youtube.com/watch?v=_6-XjSvbJsE    29 Oct 2018   \n",
       "24849  https://www.youtube.com/watch?v=KI6ZJTSja4s&t=2s     1 Nov 2018   \n",
       "\n",
       "           Views     Likes  Dislikes            user  \\\n",
       "52479  6,147,012  131000.0    3400.0    CaseyNeistat   \n",
       "23921  7,123,013   85000.0    3200.0   Unbox Therapy   \n",
       "56409  6,147,012  131000.0    3400.0        Mic Rose   \n",
       "54520  6,147,012  131000.0    3400.0  Unclejerry50th   \n",
       "24849  7,123,013   85000.0    3200.0         Bigdrop   \n",
       "\n",
       "                                             commentText    likes  \n",
       "52479  even at $1k it would be one of the best androi...  10106.0  \n",
       "23921      Should I switch to this next? Something else?   8251.0  \n",
       "56409  I'm not a fan of the notch but this is easily ...   2662.0  \n",
       "54520  Google just needs to slap the pixel logo and c...   2366.0  \n",
       "24849  Watching on my oneplus 6t :D \\n\\n\\n\\nSwitched ...   1426.0  "
      ]
     },
     "execution_count": 17,
     "metadata": {},
     "output_type": "execute_result"
    },
    {
     "data": {
      "text/plain": [
       "<matplotlib.axes._subplots.AxesSubplot at 0x12752e4e0>"
      ]
     },
     "execution_count": 17,
     "metadata": {},
     "output_type": "execute_result"
    },
    {
     "data": {
      "image/png": "[encoded data removed]",
      "text/plain": [
       "<Figure size 432x288 with 1 Axes>"
      ]
     },
     "metadata": {
      "needs_background": "light"
     },
     "output_type": "display_data"
    },
    {
     "data": {
      "text/plain": [
       "user\n",
       "Steven Corbo                14\n",
       "Shibin Babu                  8\n",
       "Amit Trivedi                 7\n",
       "ROBLOX Royale High Lover     7\n",
       "Bigdrop                      6\n",
       "Name: user, dtype: int64"
      ]
     },
     "execution_count": 17,
     "metadata": {},
     "output_type": "execute_result"
    },
    {
     "data": {
      "text/plain": [
       "user\n",
       "CaseyNeistat       10106.0\n",
       "Unbox Therapy       8251.0\n",
       "Mic Rose            2662.0\n",
       "Unclejerry50th      2366.0\n",
       "Crimson Arzuros     1722.0\n",
       "Name: likes, dtype: float64"
      ]
     },
     "execution_count": 17,
     "metadata": {},
     "output_type": "execute_result"
    },
    {
     "data": {
      "text/plain": [
       "user\n",
       "CaseyNeistat         10106.0\n",
       "Unbox Therapy         8251.0\n",
       "Mic Rose              2662.0\n",
       "Jonathan Morrison     1413.0\n",
       "Unclejerry50th        1183.0\n",
       "Name: likes, dtype: float64"
      ]
     },
     "execution_count": 17,
     "metadata": {},
     "output_type": "execute_result"
    }
   ],
   "source": [
    "#-----------------------------------------------------Oneplus 6t---------------------------------------------------------\n",
    "df_6t_sort=df_6t.sort_values(by='likes',ascending=False)\n",
    "df_6t_sort.head(5)\n",
    "\n",
    "df_6t['Likes'].plot(kind='hist',bins=20)\n",
    "plt.show()\n",
    "# Top commentors by comments\n",
    "count=df_6t.groupby(['user'])['user'].count()   #value count of each user\n",
    "count.nlargest(5)\n",
    "\n",
    "# Top commentors by liked comments\n",
    "top_comments=df_6t.groupby(['user'])['likes'].sum()   #value count of each user\n",
    "top_comments.nlargest(5)\n",
    "\n",
    "#top commentors with average likes per comment \n",
    "top_likes_per_comment=df_6t.groupby(['user'])['likes'].mean()  #value count of each user\n",
    "top_likes_per_comment.nlargest(5)"
   ]
  },
  {
   "cell_type": "code",
   "execution_count": 18,
   "metadata": {},
   "outputs": [
    {
     "data": {
      "text/html": [
       "<div>\n",
       "<style scoped>\n",
       "    .dataframe tbody tr th:only-of-type {\n",
       "        vertical-align: middle;\n",
       "    }\n",
       "\n",
       "    .dataframe tbody tr th {\n",
       "        vertical-align: top;\n",
       "    }\n",
       "\n",
       "    .dataframe thead th {\n",
       "        text-align: right;\n",
       "    }\n",
       "</style>\n",
       "<table border=\"1\" class=\"dataframe\">\n",
       "  <thead>\n",
       "    <tr style=\"text-align: right;\">\n",
       "      <th></th>\n",
       "      <th>Channel Name</th>\n",
       "      <th>Brand</th>\n",
       "      <th>Model</th>\n",
       "      <th>URL</th>\n",
       "      <th>Published_date</th>\n",
       "      <th>Views</th>\n",
       "      <th>Likes</th>\n",
       "      <th>Dislikes</th>\n",
       "      <th>user</th>\n",
       "      <th>commentText</th>\n",
       "      <th>likes</th>\n",
       "    </tr>\n",
       "  </thead>\n",
       "  <tbody>\n",
       "    <tr>\n",
       "      <th>90108</th>\n",
       "      <td>Marques_Brownlee</td>\n",
       "      <td>samsung</td>\n",
       "      <td>s10</td>\n",
       "      <td>https://www.youtube.com/watch?v=t9R7xx0joOU&amp;t=...</td>\n",
       "      <td>20 Feb 2019</td>\n",
       "      <td>8,822,405</td>\n",
       "      <td>209000.0</td>\n",
       "      <td>6400.0</td>\n",
       "      <td>Taikamuna</td>\n",
       "      <td>It has a headphone jack. Already better than a...</td>\n",
       "      <td>7130.0</td>\n",
       "    </tr>\n",
       "    <tr>\n",
       "      <th>0</th>\n",
       "      <td>Unbox_Therapy</td>\n",
       "      <td>samsung</td>\n",
       "      <td>s10</td>\n",
       "      <td>https://www.youtube.com/watch?v=7YKjLzlc-hY&amp;t=3s</td>\n",
       "      <td>21 Feb 2019</td>\n",
       "      <td>4,421,639</td>\n",
       "      <td>104000.0</td>\n",
       "      <td>3800.0</td>\n",
       "      <td>Unbox Therapy</td>\n",
       "      <td>Your favorite smartphone right now... Galaxy S...</td>\n",
       "      <td>5783.0</td>\n",
       "    </tr>\n",
       "    <tr>\n",
       "      <th>81060</th>\n",
       "      <td>Marques_Brownlee</td>\n",
       "      <td>samsung</td>\n",
       "      <td>s10</td>\n",
       "      <td>https://www.youtube.com/watch?v=t9R7xx0joOU&amp;t=...</td>\n",
       "      <td>20 Feb 2019</td>\n",
       "      <td>8,822,405</td>\n",
       "      <td>209000.0</td>\n",
       "      <td>6400.0</td>\n",
       "      <td>electronicsNmore</td>\n",
       "      <td>The obsession over smartphones has reached an ...</td>\n",
       "      <td>2792.0</td>\n",
       "    </tr>\n",
       "    <tr>\n",
       "      <th>84570</th>\n",
       "      <td>Marques_Brownlee</td>\n",
       "      <td>samsung</td>\n",
       "      <td>s10</td>\n",
       "      <td>https://www.youtube.com/watch?v=t9R7xx0joOU&amp;t=...</td>\n",
       "      <td>20 Feb 2019</td>\n",
       "      <td>8,822,405</td>\n",
       "      <td>209000.0</td>\n",
       "      <td>6400.0</td>\n",
       "      <td>I suck at Gaming</td>\n",
       "      <td>When your phone have more Ram than your comput...</td>\n",
       "      <td>2767.0</td>\n",
       "    </tr>\n",
       "    <tr>\n",
       "      <th>4122</th>\n",
       "      <td>Unbox_Therapy</td>\n",
       "      <td>samsung</td>\n",
       "      <td>s10</td>\n",
       "      <td>https://www.youtube.com/watch?v=7YKjLzlc-hY&amp;t=3s</td>\n",
       "      <td>21 Feb 2019</td>\n",
       "      <td>4,421,639</td>\n",
       "      <td>104000.0</td>\n",
       "      <td>3800.0</td>\n",
       "      <td>Bans Gandhi</td>\n",
       "      <td>Apple is just a brand .... Samsung makes new t...</td>\n",
       "      <td>2424.0</td>\n",
       "    </tr>\n",
       "  </tbody>\n",
       "</table>\n",
       "</div>"
      ],
      "text/plain": [
       "           Channel Name    Brand Model  \\\n",
       "90108  Marques_Brownlee  samsung   s10   \n",
       "0         Unbox_Therapy  samsung   s10   \n",
       "81060  Marques_Brownlee  samsung   s10   \n",
       "84570  Marques_Brownlee  samsung   s10   \n",
       "4122      Unbox_Therapy  samsung   s10   \n",
       "\n",
       "                                                     URL Published_date  \\\n",
       "90108  https://www.youtube.com/watch?v=t9R7xx0joOU&t=...    20 Feb 2019   \n",
       "0       https://www.youtube.com/watch?v=7YKjLzlc-hY&t=3s    21 Feb 2019   \n",
       "81060  https://www.youtube.com/watch?v=t9R7xx0joOU&t=...    20 Feb 2019   \n",
       "84570  https://www.youtube.com/watch?v=t9R7xx0joOU&t=...    20 Feb 2019   \n",
       "4122    https://www.youtube.com/watch?v=7YKjLzlc-hY&t=3s    21 Feb 2019   \n",
       "\n",
       "           Views     Likes  Dislikes              user  \\\n",
       "90108  8,822,405  209000.0    6400.0         Taikamuna   \n",
       "0      4,421,639  104000.0    3800.0     Unbox Therapy   \n",
       "81060  8,822,405  209000.0    6400.0  electronicsNmore   \n",
       "84570  8,822,405  209000.0    6400.0  I suck at Gaming   \n",
       "4122   4,421,639  104000.0    3800.0       Bans Gandhi   \n",
       "\n",
       "                                             commentText   likes  \n",
       "90108  It has a headphone jack. Already better than a...  7130.0  \n",
       "0      Your favorite smartphone right now... Galaxy S...  5783.0  \n",
       "81060  The obsession over smartphones has reached an ...  2792.0  \n",
       "84570  When your phone have more Ram than your comput...  2767.0  \n",
       "4122   Apple is just a brand .... Samsung makes new t...  2424.0  "
      ]
     },
     "execution_count": 18,
     "metadata": {},
     "output_type": "execute_result"
    },
    {
     "data": {
      "text/plain": [
       "<matplotlib.axes._subplots.AxesSubplot at 0x1275f1438>"
      ]
     },
     "execution_count": 18,
     "metadata": {},
     "output_type": "execute_result"
    },
    {
     "data": {
      "image/png": "[encoded data removed]",
      "text/plain": [
       "<Figure size 432x288 with 1 Axes>"
      ]
     },
     "metadata": {
      "needs_background": "light"
     },
     "output_type": "display_data"
    },
    {
     "data": {
      "text/plain": [
       "user\n",
       "Alex            12\n",
       "Justin Y.       11\n",
       "Rodney Davis     9\n",
       "John Smith       8\n",
       "satnam singh     8\n",
       "Name: user, dtype: int64"
      ]
     },
     "execution_count": 18,
     "metadata": {},
     "output_type": "execute_result"
    },
    {
     "data": {
      "text/plain": [
       "user\n",
       "Taikamuna           9315.0\n",
       "Unbox Therapy       5783.0\n",
       "electronicsNmore    2792.0\n",
       "I suck at Gaming    2767.0\n",
       "Bans Gandhi         2424.0\n",
       "Name: likes, dtype: float64"
      ]
     },
     "execution_count": 18,
     "metadata": {},
     "output_type": "execute_result"
    },
    {
     "data": {
      "text/plain": [
       "user\n",
       "Unbox Therapy       5783.0\n",
       "Taikamuna           4657.5\n",
       "electronicsNmore    2792.0\n",
       "I suck at Gaming    2767.0\n",
       "Nightcore Lab       2254.0\n",
       "Name: likes, dtype: float64"
      ]
     },
     "execution_count": 18,
     "metadata": {},
     "output_type": "execute_result"
    }
   ],
   "source": [
    "#-----------------------------------------------------Samsung s 10---------------------------------------------------------\n",
    "df_s10_sort=df_s10.sort_values(by='likes',ascending=False)\n",
    "df_s10_sort.head(5)\n",
    "df_s10['Likes'].plot(kind='hist',bins=20)\n",
    "plt.show()\n",
    "# Top commentors by comments\n",
    "count=df_s10.groupby(['user'])['user'].count()   #value count of each user\n",
    "count.nlargest(5)\n",
    "\n",
    "# Top commentors by liked comments\n",
    "top_comments=df_s10.groupby(['user'])['likes'].sum()   #value count of each user\n",
    "top_comments.nlargest(5)\n",
    "\n",
    "#top commentors with average likes per comment \n",
    "top_likes_per_comment=df_s10.groupby(['user'])['likes'].mean()  #value count of each user\n",
    "top_likes_per_comment.nlargest(5)"
   ]
  },
  {
   "cell_type": "code",
   "execution_count": 19,
   "metadata": {},
   "outputs": [
    {
     "data": {
      "text/html": [
       "<div>\n",
       "<style scoped>\n",
       "    .dataframe tbody tr th:only-of-type {\n",
       "        vertical-align: middle;\n",
       "    }\n",
       "\n",
       "    .dataframe tbody tr th {\n",
       "        vertical-align: top;\n",
       "    }\n",
       "\n",
       "    .dataframe thead th {\n",
       "        text-align: right;\n",
       "    }\n",
       "</style>\n",
       "<table border=\"1\" class=\"dataframe\">\n",
       "  <thead>\n",
       "    <tr style=\"text-align: right;\">\n",
       "      <th></th>\n",
       "      <th>Channel Name</th>\n",
       "      <th>Brand</th>\n",
       "      <th>Model</th>\n",
       "      <th>URL</th>\n",
       "      <th>Published_date</th>\n",
       "      <th>Views</th>\n",
       "      <th>Likes</th>\n",
       "      <th>Dislikes</th>\n",
       "      <th>user</th>\n",
       "      <th>commentText</th>\n",
       "      <th>likes</th>\n",
       "    </tr>\n",
       "  </thead>\n",
       "  <tbody>\n",
       "    <tr>\n",
       "      <th>23602</th>\n",
       "      <td>Unbox_Therapy</td>\n",
       "      <td>google</td>\n",
       "      <td>pixel3</td>\n",
       "      <td>https://www.youtube.com/watch?v=BJrsmM6aEYE</td>\n",
       "      <td>9 Oct 2018</td>\n",
       "      <td>3,264,839</td>\n",
       "      <td>85000.0</td>\n",
       "      <td>10000.0</td>\n",
       "      <td>Unbox Therapy</td>\n",
       "      <td>Is this my next smartphone switch?</td>\n",
       "      <td>7368.0</td>\n",
       "    </tr>\n",
       "    <tr>\n",
       "      <th>66880</th>\n",
       "      <td>Marques_Brownlee</td>\n",
       "      <td>google</td>\n",
       "      <td>pixel3</td>\n",
       "      <td>https://www.youtube.com/watch?v=LRh_iVXulXk</td>\n",
       "      <td>9 Oct 2018</td>\n",
       "      <td>4,442,663</td>\n",
       "      <td>112000.0</td>\n",
       "      <td>3700.0</td>\n",
       "      <td>Abdul Aaqib Mohammed</td>\n",
       "      <td>1. No headphone jack\\n2. Notch bigger than the...</td>\n",
       "      <td>4183.0</td>\n",
       "    </tr>\n",
       "    <tr>\n",
       "      <th>20381</th>\n",
       "      <td>Unbox_Therapy</td>\n",
       "      <td>google</td>\n",
       "      <td>pixel3</td>\n",
       "      <td>https://www.youtube.com/watch?v=BJrsmM6aEYE</td>\n",
       "      <td>9 Oct 2018</td>\n",
       "      <td>3,264,839</td>\n",
       "      <td>85000.0</td>\n",
       "      <td>10000.0</td>\n",
       "      <td>Cryomancer</td>\n",
       "      <td>So let me get this straight... And with high r...</td>\n",
       "      <td>2671.0</td>\n",
       "    </tr>\n",
       "    <tr>\n",
       "      <th>71080</th>\n",
       "      <td>Marques_Brownlee</td>\n",
       "      <td>google</td>\n",
       "      <td>pixel3</td>\n",
       "      <td>https://www.youtube.com/watch?v=LRh_iVXulXk</td>\n",
       "      <td>9 Oct 2018</td>\n",
       "      <td>4,442,663</td>\n",
       "      <td>112000.0</td>\n",
       "      <td>3700.0</td>\n",
       "      <td>Aditya Bhandari 卐</td>\n",
       "      <td>Why didn't they add the headphone jack? That n...</td>\n",
       "      <td>2267.0</td>\n",
       "    </tr>\n",
       "    <tr>\n",
       "      <th>9904</th>\n",
       "      <td>Unbox_Therapy</td>\n",
       "      <td>google</td>\n",
       "      <td>pixel3</td>\n",
       "      <td>https://www.youtube.com/watch?v=BJrsmM6aEYE</td>\n",
       "      <td>9 Oct 2018</td>\n",
       "      <td>3,264,839</td>\n",
       "      <td>85000.0</td>\n",
       "      <td>10000.0</td>\n",
       "      <td>Unbox Therapy</td>\n",
       "      <td>Guys I don't like the notch, I'll be disabling...</td>\n",
       "      <td>1662.0</td>\n",
       "    </tr>\n",
       "  </tbody>\n",
       "</table>\n",
       "</div>"
      ],
      "text/plain": [
       "           Channel Name   Brand   Model  \\\n",
       "23602     Unbox_Therapy  google  pixel3   \n",
       "66880  Marques_Brownlee  google  pixel3   \n",
       "20381     Unbox_Therapy  google  pixel3   \n",
       "71080  Marques_Brownlee  google  pixel3   \n",
       "9904      Unbox_Therapy  google  pixel3   \n",
       "\n",
       "                                               URL Published_date      Views  \\\n",
       "23602  https://www.youtube.com/watch?v=BJrsmM6aEYE     9 Oct 2018  3,264,839   \n",
       "66880  https://www.youtube.com/watch?v=LRh_iVXulXk     9 Oct 2018  4,442,663   \n",
       "20381  https://www.youtube.com/watch?v=BJrsmM6aEYE     9 Oct 2018  3,264,839   \n",
       "71080  https://www.youtube.com/watch?v=LRh_iVXulXk     9 Oct 2018  4,442,663   \n",
       "9904   https://www.youtube.com/watch?v=BJrsmM6aEYE     9 Oct 2018  3,264,839   \n",
       "\n",
       "          Likes  Dislikes                  user  \\\n",
       "23602   85000.0   10000.0         Unbox Therapy   \n",
       "66880  112000.0    3700.0  Abdul Aaqib Mohammed   \n",
       "20381   85000.0   10000.0            Cryomancer   \n",
       "71080  112000.0    3700.0     Aditya Bhandari 卐   \n",
       "9904    85000.0   10000.0         Unbox Therapy   \n",
       "\n",
       "                                             commentText   likes  \n",
       "23602                 Is this my next smartphone switch?  7368.0  \n",
       "66880  1. No headphone jack\\n2. Notch bigger than the...  4183.0  \n",
       "20381  So let me get this straight... And with high r...  2671.0  \n",
       "71080  Why didn't they add the headphone jack? That n...  2267.0  \n",
       "9904   Guys I don't like the notch, I'll be disabling...  1662.0  "
      ]
     },
     "execution_count": 19,
     "metadata": {},
     "output_type": "execute_result"
    },
    {
     "data": {
      "text/plain": [
       "<matplotlib.axes._subplots.AxesSubplot at 0x12773def0>"
      ]
     },
     "execution_count": 19,
     "metadata": {},
     "output_type": "execute_result"
    },
    {
     "data": {
      "image/png": "[encoded data removed]",
      "text/plain": [
       "<Figure size 432x288 with 1 Axes>"
      ]
     },
     "metadata": {
      "needs_background": "light"
     },
     "output_type": "display_data"
    },
    {
     "data": {
      "text/plain": [
       "user\n",
       "Paras Vaghasia    20\n",
       "Mark Sheldon      12\n",
       "Arin Berin        11\n",
       "Shubham Bhatt     11\n",
       "John Smith         9\n",
       "Name: user, dtype: int64"
      ]
     },
     "execution_count": 19,
     "metadata": {},
     "output_type": "execute_result"
    },
    {
     "data": {
      "text/plain": [
       "user\n",
       "Unbox Therapy           9030.0\n",
       "Abdul Aaqib Mohammed    4183.0\n",
       "Cryomancer              2671.0\n",
       "Aditya Bhandari 卐       2267.0\n",
       "Shubham Bhatt           2011.0\n",
       "Name: likes, dtype: float64"
      ]
     },
     "execution_count": 19,
     "metadata": {},
     "output_type": "execute_result"
    },
    {
     "data": {
      "text/plain": [
       "user\n",
       "Unbox Therapy           4515.0\n",
       "Abdul Aaqib Mohammed    4183.0\n",
       "Cryomancer              2671.0\n",
       "Aditya Bhandari 卐       2267.0\n",
       "Caligula                1561.0\n",
       "Name: likes, dtype: float64"
      ]
     },
     "execution_count": 19,
     "metadata": {},
     "output_type": "execute_result"
    }
   ],
   "source": [
    "#-----------------------------------------------------Pixel 3---------------------------------------------------------\n",
    "df_pixel3_sort=df_pixel3.sort_values(by='likes',ascending=False)\n",
    "df_pixel3_sort.head(5)\n",
    "df_pixel3['Likes'].plot(kind='hist',bins=20)\n",
    "plt.show()\n",
    "# Top commentors by comments\n",
    "count=df_pixel3.groupby(['user'])['user'].count()   #value count of each user\n",
    "count.nlargest(5)\n",
    "\n",
    "# Top commentors by liked comments\n",
    "top_comments=df_pixel3.groupby(['user'])['likes'].sum()   #value count of each user\n",
    "top_comments.nlargest(5)\n",
    "\n",
    "#top commentors with average likes per comment \n",
    "top_likes_per_comment=df_pixel3.groupby(['user'])['likes'].mean()  #value count of each user\n",
    "top_likes_per_comment.nlargest(5)"
   ]
  },
  {
   "cell_type": "code",
   "execution_count": 20,
   "metadata": {},
   "outputs": [
    {
     "data": {
      "text/html": [
       "<div>\n",
       "<style scoped>\n",
       "    .dataframe tbody tr th:only-of-type {\n",
       "        vertical-align: middle;\n",
       "    }\n",
       "\n",
       "    .dataframe tbody tr th {\n",
       "        vertical-align: top;\n",
       "    }\n",
       "\n",
       "    .dataframe thead th {\n",
       "        text-align: right;\n",
       "    }\n",
       "</style>\n",
       "<table border=\"1\" class=\"dataframe\">\n",
       "  <thead>\n",
       "    <tr style=\"text-align: right;\">\n",
       "      <th></th>\n",
       "      <th>Channel Name</th>\n",
       "      <th>Brand</th>\n",
       "      <th>Model</th>\n",
       "      <th>URL</th>\n",
       "      <th>Published_date</th>\n",
       "      <th>Views</th>\n",
       "      <th>Likes</th>\n",
       "      <th>Dislikes</th>\n",
       "      <th>user</th>\n",
       "      <th>commentText</th>\n",
       "      <th>likes</th>\n",
       "    </tr>\n",
       "  </thead>\n",
       "  <tbody>\n",
       "    <tr>\n",
       "      <th>35493</th>\n",
       "      <td>Unbox_Therapy</td>\n",
       "      <td>apple</td>\n",
       "      <td>xs</td>\n",
       "      <td>https://www.youtube.com/watch?v=XFckmtISfJk&amp;t=2s</td>\n",
       "      <td>22 Sep 2018</td>\n",
       "      <td>4,838,265</td>\n",
       "      <td>156000.0</td>\n",
       "      <td>6100.0</td>\n",
       "      <td>Unbox Therapy</td>\n",
       "      <td>So what do you think... Should I switch to the...</td>\n",
       "      <td>8648.0</td>\n",
       "    </tr>\n",
       "    <tr>\n",
       "      <th>99159</th>\n",
       "      <td>Marques_Brownlee</td>\n",
       "      <td>apple</td>\n",
       "      <td>xs</td>\n",
       "      <td>https://www.youtube.com/watch?v=YAF9BWpzwvI</td>\n",
       "      <td>18 Sep 2018</td>\n",
       "      <td>4,397,989</td>\n",
       "      <td>100000.0</td>\n",
       "      <td>4500.0</td>\n",
       "      <td>Mrwhosetheboss</td>\n",
       "      <td>2019: iPhone XS Max Mini</td>\n",
       "      <td>4631.0</td>\n",
       "    </tr>\n",
       "    <tr>\n",
       "      <th>45265</th>\n",
       "      <td>Unbox_Therapy</td>\n",
       "      <td>apple</td>\n",
       "      <td>xs</td>\n",
       "      <td>https://www.youtube.com/watch?v=XFckmtISfJk&amp;t=2s</td>\n",
       "      <td>22 Sep 2018</td>\n",
       "      <td>4,838,265</td>\n",
       "      <td>156000.0</td>\n",
       "      <td>6100.0</td>\n",
       "      <td>Open Season</td>\n",
       "      <td>Apple is not proud of that notch if they are h...</td>\n",
       "      <td>2744.0</td>\n",
       "    </tr>\n",
       "    <tr>\n",
       "      <th>97213</th>\n",
       "      <td>Marques_Brownlee</td>\n",
       "      <td>apple</td>\n",
       "      <td>xs</td>\n",
       "      <td>https://www.youtube.com/watch?v=YAF9BWpzwvI</td>\n",
       "      <td>18 Sep 2018</td>\n",
       "      <td>4,397,989</td>\n",
       "      <td>100000.0</td>\n",
       "      <td>4500.0</td>\n",
       "      <td>Zishan</td>\n",
       "      <td>Seriously guys, we need to stop the trend of 1...</td>\n",
       "      <td>1991.0</td>\n",
       "    </tr>\n",
       "    <tr>\n",
       "      <th>96427</th>\n",
       "      <td>Marques_Brownlee</td>\n",
       "      <td>apple</td>\n",
       "      <td>xs</td>\n",
       "      <td>https://www.youtube.com/watch?v=YAF9BWpzwvI</td>\n",
       "      <td>18 Sep 2018</td>\n",
       "      <td>4,397,989</td>\n",
       "      <td>100000.0</td>\n",
       "      <td>4500.0</td>\n",
       "      <td>Pawan Mahajan</td>\n",
       "      <td>New iphone names are like Sizes of UNDERWEAR 🤡</td>\n",
       "      <td>1764.0</td>\n",
       "    </tr>\n",
       "  </tbody>\n",
       "</table>\n",
       "</div>"
      ],
      "text/plain": [
       "           Channel Name  Brand Model  \\\n",
       "35493     Unbox_Therapy  apple    xs   \n",
       "99159  Marques_Brownlee  apple    xs   \n",
       "45265     Unbox_Therapy  apple    xs   \n",
       "97213  Marques_Brownlee  apple    xs   \n",
       "96427  Marques_Brownlee  apple    xs   \n",
       "\n",
       "                                                    URL Published_date  \\\n",
       "35493  https://www.youtube.com/watch?v=XFckmtISfJk&t=2s    22 Sep 2018   \n",
       "99159       https://www.youtube.com/watch?v=YAF9BWpzwvI    18 Sep 2018   \n",
       "45265  https://www.youtube.com/watch?v=XFckmtISfJk&t=2s    22 Sep 2018   \n",
       "97213       https://www.youtube.com/watch?v=YAF9BWpzwvI    18 Sep 2018   \n",
       "96427       https://www.youtube.com/watch?v=YAF9BWpzwvI    18 Sep 2018   \n",
       "\n",
       "           Views     Likes  Dislikes            user  \\\n",
       "35493  4,838,265  156000.0    6100.0   Unbox Therapy   \n",
       "99159  4,397,989  100000.0    4500.0  Mrwhosetheboss   \n",
       "45265  4,838,265  156000.0    6100.0     Open Season   \n",
       "97213  4,397,989  100000.0    4500.0          Zishan   \n",
       "96427  4,397,989  100000.0    4500.0   Pawan Mahajan   \n",
       "\n",
       "                                             commentText   likes  \n",
       "35493  So what do you think... Should I switch to the...  8648.0  \n",
       "99159                           2019: iPhone XS Max Mini  4631.0  \n",
       "45265  Apple is not proud of that notch if they are h...  2744.0  \n",
       "97213  Seriously guys, we need to stop the trend of 1...  1991.0  \n",
       "96427     New iphone names are like Sizes of UNDERWEAR 🤡  1764.0  "
      ]
     },
     "execution_count": 20,
     "metadata": {},
     "output_type": "execute_result"
    },
    {
     "data": {
      "text/plain": [
       "<matplotlib.axes._subplots.AxesSubplot at 0x107e8e908>"
      ]
     },
     "execution_count": 20,
     "metadata": {},
     "output_type": "execute_result"
    },
    {
     "data": {
      "image/png": "[encoded data removed]",
      "text/plain": [
       "<Figure size 432x288 with 1 Axes>"
      ]
     },
     "metadata": {
      "needs_background": "light"
     },
     "output_type": "display_data"
    },
    {
     "data": {
      "text/plain": [
       "user\n",
       "Varun Shewraj     23\n",
       "Lamur Cribb       10\n",
       "Moises Sequera     9\n",
       "Shubham Bhatt      9\n",
       "jamal laamim       9\n",
       "Name: user, dtype: int64"
      ]
     },
     "execution_count": 20,
     "metadata": {},
     "output_type": "execute_result"
    },
    {
     "data": {
      "text/plain": [
       "user\n",
       "Unbox Therapy     8648.0\n",
       "Mrwhosetheboss    4631.0\n",
       "Open Season       3026.0\n",
       "Zishan            2022.0\n",
       "Pawan Mahajan     1764.0\n",
       "Name: likes, dtype: float64"
      ]
     },
     "execution_count": 20,
     "metadata": {},
     "output_type": "execute_result"
    },
    {
     "data": {
      "text/plain": [
       "user\n",
       "Unbox Therapy        8648.0\n",
       "Mrwhosetheboss       4631.0\n",
       "Pawan Mahajan        1764.0\n",
       "Cookie Tasty         1654.0\n",
       "Molly's Lovechild    1541.0\n",
       "Name: likes, dtype: float64"
      ]
     },
     "execution_count": 20,
     "metadata": {},
     "output_type": "execute_result"
    }
   ],
   "source": [
    "#-----------------------------------------------------Iphone xs---------------------------------------------------------\n",
    "df_xs_sort=df_xs.sort_values(by='likes',ascending=False)\n",
    "df_xs_sort.head(5)\n",
    "df_xs['Likes'].plot(kind='hist',bins=20)\n",
    "plt.show()\n",
    "# Top commentors by comments\n",
    "count=df_xs.groupby(['user'])['user'].count()   #value count of each user\n",
    "count.nlargest(5)\n",
    "\n",
    "# Top commentors by liked comments\n",
    "top_comments=df_xs.groupby(['user'])['likes'].sum()   #value count of each user\n",
    "\n",
    "top_comments.nlargest(5)\n",
    "\n",
    "#top commentors with average likes per comment \n",
    "top_likes_per_comment=df_xs.groupby(['user'])['likes'].mean()  #value count of each user\n",
    "top_likes_per_comment.nlargest(5)"
   ]
  },
  {
   "cell_type": "code",
   "execution_count": 21,
   "metadata": {},
   "outputs": [
    {
     "name": "stderr",
     "output_type": "stream",
     "text": [
      "/Library/Frameworks/Python.framework/Versions/3.7/lib/python3.7/site-packages/scipy/stats/stats.py:1713: FutureWarning: Using a non-tuple sequence for multidimensional indexing is deprecated; use `arr[tuple(seq)]` instead of `arr[seq]`. In the future this will be interpreted as an array index, `arr[np.array(seq)]`, which will result either in an error or a different result.\n",
      "  return np.add.reduce(sorted[indexer] * weights, axis=axis) / sumval\n"
     ]
    },
    {
     "data": {
      "image/png": "[encoded data removed]",
      "text/plain": [
       "<Figure size 576x360 with 1 Axes>"
      ]
     },
     "metadata": {},
     "output_type": "display_data"
    }
   ],
   "source": [
    "import seaborn as sns\n",
    "sns.set_style(\"whitegrid\");\n",
    "\n",
    "plt.figure(figsize=(8,5));\n",
    "sns.barplot(x='Channel Name',y='Likes', data=df);\n",
    "plt.show(); "
   ]
  },
  {
   "cell_type": "code",
   "execution_count": 22,
   "metadata": {},
   "outputs": [
    {
     "data": {
      "image/png": "[encoded data removed]",
      "text/plain": [
       "<Figure size 576x360 with 1 Axes>"
      ]
     },
     "metadata": {},
     "output_type": "display_data"
    }
   ],
   "source": [
    "import seaborn as sns\n",
    "sns.set_style(\"whitegrid\");\n",
    "\n",
    "plt.figure(figsize=(8,5));\n",
    "sns.barplot(x='Model',y='Likes', data=df);\n",
    "plt.show(); "
   ]
  },
  {
   "cell_type": "code",
   "execution_count": null,
   "metadata": {},
   "outputs": [],
   "source": []
  }
 ],
 "metadata": {
  "kernelspec": {
   "display_name": "Python 3",
   "language": "python",
   "name": "python3"
  },
  "language_info": {
   "codemirror_mode": {
    "name": "ipython",
    "version": 3
   },
   "file_extension": ".py",
   "mimetype": "text/x-python",
   "name": "python",
   "nbconvert_exporter": "python",
   "pygments_lexer": "ipython3",
   "version": "3.7.0"
  }
 },
 "nbformat": 4,
 "nbformat_minor": 2
}
